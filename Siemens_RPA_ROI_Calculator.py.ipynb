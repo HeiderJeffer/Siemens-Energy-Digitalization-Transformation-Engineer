{
 "cells": [
  {
   "cell_type": "code",
   "execution_count": null,
   "id": "a075b926-fa36-40d4-b76d-fb82e437a3f8",
   "metadata": {},
   "outputs": [],
   "source": [
    "# Siemens Energy Digitalization Transformation Engineer: Interactive RPA ROI Calculator in Python\n",
    "# By Heider Jeffer\n",
    "def calculate_rpa_roi(costs, benefits):\n",
    "    \"\"\"\n",
    "    Calculate ROI for RPA projects.\n",
    "\n",
    "    Args:\n",
    "        costs (dict): A dictionary of cost components.\n",
    "        benefits (dict): A dictionary of benefit components.\n",
    "\n",
    "    Returns:\n",
    "        float: ROI percentage\n",
    "    \"\"\"\n",
    "    total_costs = sum(costs.values())\n",
    "    total_benefits = sum(benefits.values())\n",
    "\n",
    "    if total_costs == 0:\n",
    "        raise ValueError(\"Total costs cannot be zero.\")\n",
    "\n",
    "    roi = ((total_benefits - total_costs) / total_costs) * 100\n",
    "    return roi\n",
    "\n",
    "\n",
    "def get_input(prompt_text):\n",
    "    while True:\n",
    "        try:\n",
    "            value = float(input(prompt_text))\n",
    "            if value < 0:\n",
    "                print(\"Please enter a non-negative number.\")\n",
    "                continue\n",
    "            return value\n",
    "        except ValueError:\n",
    "            print(\"Invalid input. Please enter a number.\")\n",
    "\n",
    "# Interactive input for costs\n",
    "costs = {}\n",
    "cost_components = [\"license\", \"implementation\", \"training\", \"maintenance\"]\n",
    "for component in cost_components:\n",
    "    costs[component] = get_input(f\"Enter {component} cost: $\")\n",
    "\n",
    "# Interactive input for benefits\n",
    "benefits = {}\n",
    "benefit_components = [\"labor_savings\", \"error_reduction\", \"compliance\", \"efficiency\"]\n",
    "for component in benefit_components:\n",
    "    benefits[component] = get_input(f\"Enter {component} benefit: $\")\n",
    "\n",
    "roi_value = calculate_rpa_roi(costs, benefits)\n",
    "print(f\"\\nTotal Costs: ${sum(costs.values()):,.2f}\")\n",
    "print(f\"Total Benefits: ${sum(benefits.values()):,.2f}\")\n",
    "print(f\"ROI: {roi_value:.2f}%\")\n"
   ]
  }
 ],
 "metadata": {
  "kernelspec": {
   "display_name": "Python 3 (ipykernel)",
   "language": "python",
   "name": "python3"
  },
  "language_info": {
   "codemirror_mode": {
    "name": "ipython",
    "version": 3
   },
   "file_extension": ".py",
   "mimetype": "text/x-python",
   "name": "python",
   "nbconvert_exporter": "python",
   "pygments_lexer": "ipython3",
   "version": "3.11.13"
  }
 },
 "nbformat": 4,
 "nbformat_minor": 5
}
